{
 "cells": [
  {
   "cell_type": "code",
   "execution_count": 1,
   "metadata": {},
   "outputs": [],
   "source": [
    "import pandas as pd\n",
    "from fooracle import fooracle"
   ]
  },
  {
   "cell_type": "code",
   "execution_count": 2,
   "metadata": {},
   "outputs": [
    {
     "name": "stdout",
     "output_type": "stream",
     "text": [
      "Welcome, you have summoned the fooracle!\n",
      "I can see the past, now I'm ready to tell the future...\n"
     ]
    }
   ],
   "source": [
    "#Uses data from: https://www.kaggle.com/martj42/international-football-results-from-1872-to-2017/data\n",
    "data_file = pd.read_csv('results.csv')\n",
    "foo = fooracle(data_file, False)"
   ]
  },
  {
   "cell_type": "code",
   "execution_count": 3,
   "metadata": {},
   "outputs": [],
   "source": [
    "groups = [\n",
    "    ['Russia', 'Saudi Arabia', 'Egypt', 'Uruguay'],\n",
    "    ['Portugal', 'Spain', 'Morocco', 'Iran'],\n",
    "    ['France', 'Australia', 'Peru', 'Denmark'],\n",
    "    ['Argentina', 'Iceland', 'Croatia', 'Nigeria'],\n",
    "    ['Brazil', 'Switzerland',  'Costa Rica', 'Serbia'],\n",
    "    ['Germany', 'Mexico', 'Sweden', 'Korea Republic'],\n",
    "    ['Belgium', 'Panama', 'Tunisia', 'England'],\n",
    "    ['Poland', 'Senegal', 'Colombia', 'Japan']\n",
    "]"
   ]
  },
  {
   "cell_type": "code",
   "execution_count": 4,
   "metadata": {
    "scrolled": false
   },
   "outputs": [
    {
     "name": "stdout",
     "output_type": "stream",
     "text": [
      "Group A\n",
      "Russia vs. Saudi Arabia - 3 : 0\n",
      "Russia vs. Egypt - 1 : 0\n",
      "Russia vs. Uruguay - 1 : 3\n",
      "Saudi Arabia vs. Egypt - 0 : 1\n",
      "Saudi Arabia vs. Uruguay - 2 : 0\n",
      "Egypt vs. Uruguay - 0 : 1\n",
      "\n",
      "Group B\n",
      "Portugal vs. Spain - 0 : 3\n",
      "Portugal vs. Morocco - 1 : 3\n",
      "Portugal vs. Iran - 1 : 1\n",
      "Spain vs. Morocco - 2 : 1\n",
      "Spain vs. Iran - 2 : 0\n",
      "Morocco vs. Iran - 0 : 2\n",
      "\n",
      "Group C\n",
      "France vs. Australia - 4 : 1\n",
      "France vs. Peru - 2 : 0\n",
      "France vs. Denmark - 0 : 1\n",
      "Australia vs. Peru - 0 : 3\n",
      "Australia vs. Denmark - 2 : 2\n",
      "Peru vs. Denmark - 0 : 1\n",
      "\n",
      "Group D\n",
      "Argentina vs. Iceland - 2 : 0\n",
      "Argentina vs. Croatia - 3 : 1\n",
      "Argentina vs. Nigeria - 3 : 3\n",
      "Iceland vs. Croatia - 0 : 0\n",
      "Iceland vs. Nigeria - 0 : 0\n",
      "Croatia vs. Nigeria - 0 : 2\n",
      "\n",
      "Group E\n",
      "Brazil vs. Switzerland - 1 : 0\n",
      "Brazil vs. Costa Rica - 2 : 0\n",
      "Brazil vs. Serbia - 5 : 1\n",
      "Switzerland vs. Costa Rica - 3 : 2\n",
      "Switzerland vs. Serbia - 2 : 0\n",
      "Costa Rica vs. Serbia - 1 : 1\n",
      "\n",
      "Group F\n",
      "Germany vs. Mexico - 1 : 0\n",
      "Germany vs. Sweden - 5 : 2\n",
      "Germany vs. Korea Republic - 2 : 2\n",
      "Mexico vs. Sweden - 1 : 2\n",
      "Mexico vs. Korea Republic - 1 : 2\n",
      "Sweden vs. Korea Republic - 2 : 0\n",
      "\n",
      "Group G\n",
      "Belgium vs. Panama - 5 : 1\n",
      "Belgium vs. Tunisia - 1 : 1\n",
      "Belgium vs. England - 1 : 3\n",
      "Panama vs. Tunisia - 1 : 1\n",
      "Panama vs. England - 0 : 0\n",
      "Tunisia vs. England - 1 : 2\n",
      "\n",
      "Group H\n",
      "Poland vs. Senegal - 4 : 1\n",
      "Poland vs. Colombia - 0 : 3\n",
      "Poland vs. Japan - 2 : 1\n",
      "Senegal vs. Colombia - 1 : 1\n",
      "Senegal vs. Japan - 3 : 1\n",
      "Colombia vs. Japan - 2 : 1\n",
      "\n",
      "Group A\n",
      "              points  goals_scored  goals_taken  goal_difference\n",
      "Russia             6             5            3                2\n",
      "Uruguay            6             4            3                1\n",
      "Egypt              3             1            2               -1\n",
      "Saudi Arabia       3             2            4               -2\n",
      "\n",
      "\n",
      "Group B\n",
      "          points  goals_scored  goals_taken  goal_difference\n",
      "Spain          9             7            1                6\n",
      "Iran           4             3            3                0\n",
      "Morocco        3             4            5               -1\n",
      "Portugal       1             2            7               -5\n",
      "\n",
      "\n",
      "Group C\n",
      "           points  goals_scored  goals_taken  goal_difference\n",
      "Denmark         7             4            2                2\n",
      "France          6             6            2                4\n",
      "Peru            3             3            3                0\n",
      "Australia       1             3            9               -6\n",
      "\n",
      "\n",
      "Group D\n",
      "           points  goals_scored  goals_taken  goal_difference\n",
      "Argentina       7             8            4                4\n",
      "Nigeria         5             5            3                2\n",
      "Iceland         2             0            2               -2\n",
      "Croatia         1             1            5               -4\n",
      "\n",
      "\n",
      "Group E\n",
      "             points  goals_scored  goals_taken  goal_difference\n",
      "Brazil            9             8            1                7\n",
      "Switzerland       6             5            3                2\n",
      "Costa Rica        1             3            6               -3\n",
      "Serbia            1             2            8               -6\n",
      "\n",
      "\n",
      "Group F\n",
      "                points  goals_scored  goals_taken  goal_difference\n",
      "Germany              7             8            4                4\n",
      "Sweden               6             6            6                0\n",
      "Korea Republic       4             4            5               -1\n",
      "Mexico               0             2            5               -3\n",
      "\n",
      "\n",
      "Group G\n",
      "         points  goals_scored  goals_taken  goal_difference\n",
      "England       7             5            2                3\n",
      "Belgium       4             7            5                2\n",
      "Tunisia       2             3            4               -1\n",
      "Panama        2             2            6               -4\n",
      "\n",
      "\n",
      "Group H\n",
      "          points  goals_scored  goals_taken  goal_difference\n",
      "Colombia       7             6            2                4\n",
      "Poland         6             6            5                1\n",
      "Senegal        4             5            6               -1\n",
      "Japan          0             3            7               -4\n",
      "\n",
      "\n",
      "Round of best 16\n",
      "Russia vs. Iran - 3 : 2\n",
      "Denmark vs. Nigeria - 1 : 2\n",
      "Brazil vs. Sweden - 3 : 1\n",
      "England vs. Poland - 8 : 1\n",
      "Spain vs. Uruguay - 1 : 3\n",
      "Argentina vs. France - 0 : 1\n",
      "Germany vs. Switzerland - 4 : 0\n",
      "Colombia vs. Belgium - 1 : 2\n",
      "\n",
      "Round of best 8\n",
      "Russia vs. Nigeria - 2 : 1\n",
      "Brazil vs. England - 0 : 1\n",
      "Uruguay vs. France - 1 : 3\n",
      "Germany vs. Belgium - 1 : 4\n",
      "\n",
      "Semifinal\n",
      "Russia vs. England - 5 : 1\n",
      "France vs. Belgium - 2 : 0\n",
      "\n",
      "Final\n",
      "Russia vs. France - 0 : 4\n",
      "Tournament champion: France\n"
     ]
    },
    {
     "data": {
      "text/plain": [
       "'France'"
      ]
     },
     "execution_count": 4,
     "metadata": {},
     "output_type": "execute_result"
    }
   ],
   "source": [
    "foo.foretell_tournament( groups )"
   ]
  },
  {
   "cell_type": "code",
   "execution_count": null,
   "metadata": {},
   "outputs": [],
   "source": []
  }
 ],
 "metadata": {
  "kernelspec": {
   "display_name": "Python 3",
   "language": "python",
   "name": "python3"
  },
  "language_info": {
   "codemirror_mode": {
    "name": "ipython",
    "version": 3
   },
   "file_extension": ".py",
   "mimetype": "text/x-python",
   "name": "python",
   "nbconvert_exporter": "python",
   "pygments_lexer": "ipython3",
   "version": "3.6.5"
  }
 },
 "nbformat": 4,
 "nbformat_minor": 2
}
