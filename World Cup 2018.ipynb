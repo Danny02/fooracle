{
 "cells": [
  {
   "cell_type": "code",
   "execution_count": 1,
   "metadata": {},
   "outputs": [],
   "source": [
    "import pandas as pd\n",
    "from fooracle import fooracle"
   ]
  },
  {
   "cell_type": "code",
   "execution_count": 2,
   "metadata": {},
   "outputs": [
    {
     "name": "stdout",
     "output_type": "stream",
     "text": [
      "Welcome, you have summoned the fooracle!\n",
      "I can see the past, now I'm ready to tell the future...\n"
     ]
    }
   ],
   "source": [
    "#Uses data from: https://www.kaggle.com/martj42/international-football-results-from-1872-to-2017/data\n",
    "data_file = pd.read_csv('results.csv')\n",
    "foo = fooracle(data_file)"
   ]
  },
  {
   "cell_type": "code",
   "execution_count": 3,
   "metadata": {},
   "outputs": [],
   "source": [
    "groups = [\n",
    "    ['Russia', 'Saudi Arabia', 'Egypt', 'Uruguay'],\n",
    "    ['Portugal', 'Spain', 'Morocco', 'Iran'],\n",
    "    ['France', 'Australia', 'Peru', 'Denmark'],\n",
    "    ['Argentina', 'Iceland', 'Croatia', 'Nigeria'],\n",
    "    ['Brazil', 'Switzerland',  'Costa Rica', 'Serbia'],\n",
    "    ['Germany', 'Mexico', 'Sweden', 'Korea Republic'],\n",
    "    ['Belgium', 'Panama', 'Tunisia', 'England'],\n",
    "    ['Poland', 'Senegal', 'Colombia', 'Japan']\n",
    "]"
   ]
  },
  {
   "cell_type": "code",
   "execution_count": 4,
   "metadata": {
    "scrolled": false
   },
   "outputs": [
    {
     "name": "stdout",
     "output_type": "stream",
     "text": [
      "Russia vs. Saudi Arabia - 5 : 3\n",
      "Russia vs. Egypt - 5 : 3\n",
      "Russia vs. Uruguay - 0 : 1\n",
      "Saudi Arabia vs. Egypt - 1 : 2\n",
      "Saudi Arabia vs. Uruguay - 1 : 4\n",
      "Egypt vs. Uruguay - 3 : 2\n",
      "Portugal vs. Spain - 1 : 1\n",
      "Portugal vs. Morocco - 2 : 3\n",
      "Portugal vs. Iran - 2 : 0\n",
      "Spain vs. Morocco - 3 : 1\n",
      "Spain vs. Iran - 0 : 0\n",
      "Morocco vs. Iran - 1 : 1\n",
      "France vs. Australia - 3 : 0\n",
      "France vs. Peru - 2 : 4\n",
      "France vs. Denmark - 3 : 1\n",
      "Australia vs. Peru - 2 : 2\n",
      "Australia vs. Denmark - 2 : 1\n",
      "Peru vs. Denmark - 0 : 3\n",
      "Argentina vs. Iceland - 2 : 0\n",
      "Argentina vs. Croatia - 0 : 1\n",
      "Argentina vs. Nigeria - 1 : 1\n",
      "Iceland vs. Croatia - 1 : 0\n",
      "Iceland vs. Nigeria - 1 : 1\n",
      "Croatia vs. Nigeria - 1 : 0\n",
      "Brazil vs. Switzerland - 0 : 0\n",
      "Brazil vs. Costa Rica - 6 : 4\n",
      "Brazil vs. Serbia - 0 : 0\n",
      "Switzerland vs. Costa Rica - 0 : 0\n",
      "Switzerland vs. Serbia - 1 : 1\n",
      "Costa Rica vs. Serbia - 2 : 1\n",
      "Germany vs. Mexico - 1 : 1\n",
      "Germany vs. Sweden - 3 : 1\n",
      "Germany vs. Korea Republic - 4 : 1\n",
      "Mexico vs. Sweden - 3 : 2\n",
      "Mexico vs. Korea Republic - 1 : 3\n",
      "Sweden vs. Korea Republic - 0 : 3\n",
      "Belgium vs. Panama - 0 : 0\n",
      "Belgium vs. Tunisia - 1 : 1\n",
      "Belgium vs. England - 2 : 0\n",
      "Panama vs. Tunisia - 1 : 0\n",
      "Panama vs. England - 0 : 2\n",
      "Tunisia vs. England - 1 : 2\n",
      "Poland vs. Senegal - 2 : 1\n",
      "Poland vs. Colombia - 3 : 2\n",
      "Poland vs. Japan - 2 : 0\n",
      "Senegal vs. Colombia - 0 : 0\n",
      "Senegal vs. Japan - 1 : 2\n",
      "Colombia vs. Japan - 1 : 1\n",
      "Group A\n",
      "              points  goals_scored  goals_taken  goal_difference\n",
      "Russia             6            10            7                3\n",
      "Uruguay            6             7            4                3\n",
      "Egypt              6             8            8                0\n",
      "Saudi Arabia       0             5           11               -6\n",
      "\n",
      "\n",
      "Group B\n",
      "          points  goals_scored  goals_taken  goal_difference\n",
      "Spain          5             4            2                2\n",
      "Portugal       4             5            4                1\n",
      "Morocco        4             5            6               -1\n",
      "Iran           2             1            3               -2\n",
      "\n",
      "\n",
      "Group C\n",
      "           points  goals_scored  goals_taken  goal_difference\n",
      "France          6             8            5                3\n",
      "Peru            4             6            7               -1\n",
      "Australia       4             4            6               -2\n",
      "Denmark         3             5            5                0\n",
      "\n",
      "\n",
      "Group D\n",
      "           points  goals_scored  goals_taken  goal_difference\n",
      "Croatia         6             2            1                1\n",
      "Argentina       4             3            2                1\n",
      "Iceland         4             2            3               -1\n",
      "Nigeria         2             2            3               -1\n",
      "\n",
      "\n",
      "Group E\n",
      "             points  goals_scored  goals_taken  goal_difference\n",
      "Brazil            5             6            4                2\n",
      "Costa Rica        4             6            7               -1\n",
      "Switzerland       3             1            1                0\n",
      "Serbia            2             2            3               -1\n",
      "\n",
      "\n",
      "Group F\n",
      "                points  goals_scored  goals_taken  goal_difference\n",
      "Germany              7             8            3                5\n",
      "Korea Republic       6             7            5                2\n",
      "Mexico               4             5            6               -1\n",
      "Sweden               0             3            9               -6\n",
      "\n",
      "\n",
      "Group G\n",
      "         points  goals_scored  goals_taken  goal_difference\n",
      "England       6             4            3                1\n",
      "Belgium       5             3            1                2\n",
      "Panama        4             1            2               -1\n",
      "Tunisia       1             2            4               -2\n",
      "\n",
      "\n",
      "Group H\n",
      "          points  goals_scored  goals_taken  goal_difference\n",
      "Poland         9             7            3                4\n",
      "Japan          4             3            4               -1\n",
      "Colombia       2             3            4               -1\n",
      "Senegal        1             2            4               -2\n",
      "\n",
      "\n",
      "Russia vs. Portugal - 0 : 0\n",
      "France vs. Argentina - 2 : 1\n",
      "Brazil vs. Korea Republic - 1 : 0\n",
      "England vs. Japan - 1 : 0\n",
      "Spain vs. Uruguay - 1 : 2\n",
      "Croatia vs. Peru - 2 : 1\n",
      "Germany vs. Costa Rica - 2 : 1\n",
      "Poland vs. Belgium - 1 : 2\n",
      "Russia vs. France - 2 : 1\n",
      "Brazil vs. England - 2 : 1\n",
      "Uruguay vs. Croatia - 2 : 3\n",
      "Germany vs. Belgium - 2 : 1\n",
      "Russia vs. Brazil - 2 : 1\n",
      "Croatia vs. Germany - 0 : 3\n",
      "Russia vs. Germany - 1 : 1\n",
      "Winner world cup 2018: Russia\n"
     ]
    },
    {
     "data": {
      "text/plain": [
       "'Russia'"
      ]
     },
     "execution_count": 4,
     "metadata": {},
     "output_type": "execute_result"
    }
   ],
   "source": [
    "foo.foretell_tournament( groups )"
   ]
  }
 ],
 "metadata": {
  "kernelspec": {
   "display_name": "Python 3",
   "language": "python",
   "name": "python3"
  },
  "language_info": {
   "codemirror_mode": {
    "name": "ipython",
    "version": 3
   },
   "file_extension": ".py",
   "mimetype": "text/x-python",
   "name": "python",
   "nbconvert_exporter": "python",
   "pygments_lexer": "ipython3",
   "version": "3.6.5"
  }
 },
 "nbformat": 4,
 "nbformat_minor": 2
}
